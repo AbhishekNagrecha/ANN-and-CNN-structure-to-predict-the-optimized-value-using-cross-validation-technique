{
 "cells": [
  {
   "cell_type": "code",
   "execution_count": 3,
   "metadata": {},
   "outputs": [],
   "source": [
    "import keras\n",
    "import numpy as np\n",
    "import pandas as pd\n",
    "from keras.models import Sequential\n",
    "from keras.layers import Dense, Dropout\n",
    "from sklearn.model_selection import train_test_split"
   ]
  },
  {
   "cell_type": "code",
   "execution_count": 4,
   "metadata": {},
   "outputs": [],
   "source": [
    "# for random seed\n",
    "np.random.seed(2)\n",
    "\n",
    "X_dataCNN = np.empty([1000, 50, 50])\n",
    "X_dataANN = np.empty([1000, 2500])\n",
    "y_data = np.empty([1000])\n",
    "dirdata = \"./DS/\"\n",
    "for i in range(1000):\n",
    "    dataset = pd.read_csv(dirdata + 'data'+str(i)+'.csv')\n",
    "    dataset_headerless = dataset.to_csv(header=None,index=False)\n",
    "    X_dataCNN[i] = np.reshape(np.array((dataset_headerless.replace(\"[\",'').replace(\"]\",\"\").replace('\\n',\"\")).split()), (-1,50))\n",
    "    X_dataANN[i] = np.array((dataset_headerless.replace(\"[\",'').replace(\"]\",\"\").replace('\\n',\"\")).split())\n",
    "    y_data[i] = np.array((dataset.columns[0].split(\":\"))[1])\n",
    "    \n",
    "# split data into a train and test set\n",
    "X_trainCNN, X_testCNN, X_trainANN, X_testANN, y_train, y_test = train_test_split(X_dataCNN, X_dataANN, y_data, test_size=0.2, random_state=42)"
   ]
  },
  {
   "cell_type": "code",
   "execution_count": 5,
   "metadata": {},
   "outputs": [
    {
     "data": {
      "text/plain": [
       "((1000, 50, 50), (1000, 2500), (1000,))"
      ]
     },
     "execution_count": 5,
     "metadata": {},
     "output_type": "execute_result"
    }
   ],
   "source": [
    "X_dataCNN.shape, X_dataANN.shape, y_data.shape"
   ]
  },
  {
   "cell_type": "code",
   "execution_count": 6,
   "metadata": {},
   "outputs": [
    {
     "data": {
      "text/plain": [
       "((800, 50, 50), (200, 50, 50), (800, 2500), (200, 2500), (800,), (200,))"
      ]
     },
     "execution_count": 6,
     "metadata": {},
     "output_type": "execute_result"
    }
   ],
   "source": [
    "# Print shape of Data\n",
    "X_trainCNN.shape, X_testCNN.shape, X_trainANN.shape, X_testANN.shape, y_train.shape, y_test.shape"
   ]
  },
  {
   "cell_type": "markdown",
   "metadata": {},
   "source": [
    "# Feature  Scaling"
   ]
  },
  {
   "cell_type": "code",
   "execution_count": 7,
   "metadata": {},
   "outputs": [
    {
     "name": "stdout",
     "output_type": "stream",
     "text": [
      "499.0 1981.0\n"
     ]
    }
   ],
   "source": [
    "max_X_value = np.amax(X_dataCNN)\n",
    "max_y_value = np.amax(y_data)\n",
    "print(max_X_value, max_y_value)"
   ]
  },
  {
   "cell_type": "code",
   "execution_count": 8,
   "metadata": {},
   "outputs": [],
   "source": [
    "X_trainCNN = X_trainCNN.astype('float32')/max_X_value\n",
    "X_testCNN  = X_testCNN.astype('float32')/max_X_value\n",
    "X_trainANN = X_trainANN.astype('float32')/max_X_value\n",
    "X_testANN  = X_testANN.astype('float32')/max_X_value\n",
    "y_train   = y_train.astype('float32')/max_y_value\n",
    "y_test    = y_test.astype('float32')/max_y_value"
   ]
  },
  {
   "cell_type": "markdown",
   "metadata": {},
   "source": [
    "# ANN Model"
   ]
  },
  {
   "cell_type": "code",
   "execution_count": 9,
   "metadata": {},
   "outputs": [],
   "source": [
    "X_train_ann, X_validation_ann, y_train_ann, y_validation_ann = train_test_split(X_trainANN, y_train, test_size= 0.2, random_state=2020)"
   ]
  },
  {
   "cell_type": "code",
   "execution_count": 10,
   "metadata": {},
   "outputs": [
    {
     "data": {
      "text/plain": [
       "((640, 2500), (160, 2500), (640,), (160,))"
      ]
     },
     "execution_count": 10,
     "metadata": {},
     "output_type": "execute_result"
    }
   ],
   "source": [
    "X_train_ann.shape,  X_validation_ann.shape, y_train_ann.shape, y_validation_ann.shape"
   ]
  },
  {
   "cell_type": "code",
   "execution_count": 11,
   "metadata": {},
   "outputs": [],
   "source": [
    "# Create ann model\n",
    "modelann = Sequential()\n",
    "modelann.add(Dense(16, input_dim=2500, kernel_initializer='normal', activation='relu'))\n",
    "modelann.add(Dense(1, kernel_initializer='normal'))\n",
    "# Compile model\n",
    "modelann.compile(loss='mean_squared_error', optimizer='adam')"
   ]
  },
  {
   "cell_type": "code",
   "execution_count": 12,
   "metadata": {},
   "outputs": [
    {
     "name": "stdout",
     "output_type": "stream",
     "text": [
      "WARNING:tensorflow:From /home/sahadev/anaconda3/lib/python3.7/site-packages/keras/backend/tensorflow_backend.py:422: The name tf.global_variables is deprecated. Please use tf.compat.v1.global_variables instead.\n",
      "\n",
      "Train on 640 samples, validate on 160 samples\n",
      "Epoch 1/70\n",
      "640/640 [==============================] - 0s 193us/step - loss: 0.0744 - val_loss: 0.0104\n",
      "Epoch 2/70\n",
      "640/640 [==============================] - 0s 57us/step - loss: 0.0072 - val_loss: 0.0075\n",
      "Epoch 3/70\n",
      "640/640 [==============================] - 0s 58us/step - loss: 0.0056 - val_loss: 0.0070\n",
      "Epoch 4/70\n",
      "640/640 [==============================] - 0s 76us/step - loss: 0.0051 - val_loss: 0.0065\n",
      "Epoch 5/70\n",
      "640/640 [==============================] - 0s 60us/step - loss: 0.0046 - val_loss: 0.0062\n",
      "Epoch 6/70\n",
      "640/640 [==============================] - 0s 60us/step - loss: 0.0043 - val_loss: 0.0061\n",
      "Epoch 7/70\n",
      "640/640 [==============================] - 0s 64us/step - loss: 0.0039 - val_loss: 0.0056\n",
      "Epoch 8/70\n",
      "640/640 [==============================] - 0s 68us/step - loss: 0.0035 - val_loss: 0.0054\n",
      "Epoch 9/70\n",
      "640/640 [==============================] - 0s 63us/step - loss: 0.0033 - val_loss: 0.0055\n",
      "Epoch 10/70\n",
      "640/640 [==============================] - 0s 60us/step - loss: 0.0032 - val_loss: 0.0049\n",
      "Epoch 11/70\n",
      "640/640 [==============================] - 0s 60us/step - loss: 0.0027 - val_loss: 0.0047\n",
      "Epoch 12/70\n",
      "640/640 [==============================] - 0s 68us/step - loss: 0.0026 - val_loss: 0.0048\n",
      "Epoch 13/70\n",
      "640/640 [==============================] - 0s 60us/step - loss: 0.0025 - val_loss: 0.0044\n",
      "Epoch 14/70\n",
      "640/640 [==============================] - 0s 65us/step - loss: 0.0023 - val_loss: 0.0043\n",
      "Epoch 15/70\n",
      "640/640 [==============================] - 0s 67us/step - loss: 0.0021 - val_loss: 0.0042\n",
      "Epoch 16/70\n",
      "640/640 [==============================] - 0s 67us/step - loss: 0.0020 - val_loss: 0.0042\n",
      "Epoch 17/70\n",
      "640/640 [==============================] - 0s 65us/step - loss: 0.0019 - val_loss: 0.0040\n",
      "Epoch 18/70\n",
      "640/640 [==============================] - 0s 63us/step - loss: 0.0017 - val_loss: 0.0040\n",
      "Epoch 19/70\n",
      "640/640 [==============================] - 0s 69us/step - loss: 0.0016 - val_loss: 0.0041\n",
      "Epoch 20/70\n",
      "640/640 [==============================] - 0s 62us/step - loss: 0.0016 - val_loss: 0.0039\n",
      "Epoch 21/70\n",
      "640/640 [==============================] - 0s 73us/step - loss: 0.0017 - val_loss: 0.0038\n",
      "Epoch 22/70\n",
      "640/640 [==============================] - 0s 63us/step - loss: 0.0014 - val_loss: 0.0040\n",
      "Epoch 23/70\n",
      "640/640 [==============================] - 0s 56us/step - loss: 0.0014 - val_loss: 0.0041\n",
      "Epoch 24/70\n",
      "640/640 [==============================] - 0s 59us/step - loss: 0.0012 - val_loss: 0.0038\n",
      "Epoch 25/70\n",
      "640/640 [==============================] - 0s 57us/step - loss: 0.0012 - val_loss: 0.0037\n",
      "Epoch 26/70\n",
      "640/640 [==============================] - 0s 74us/step - loss: 0.0011 - val_loss: 0.0037\n",
      "Epoch 27/70\n",
      "640/640 [==============================] - 0s 64us/step - loss: 0.0011 - val_loss: 0.0036\n",
      "Epoch 28/70\n",
      "640/640 [==============================] - 0s 65us/step - loss: 0.0010 - val_loss: 0.0038\n",
      "Epoch 29/70\n",
      "640/640 [==============================] - 0s 56us/step - loss: 0.0011 - val_loss: 0.0036\n",
      "Epoch 30/70\n",
      "640/640 [==============================] - 0s 77us/step - loss: 9.1334e-04 - val_loss: 0.0037\n",
      "Epoch 31/70\n",
      "640/640 [==============================] - 0s 59us/step - loss: 0.0011 - val_loss: 0.0036\n",
      "Epoch 32/70\n",
      "640/640 [==============================] - 0s 50us/step - loss: 8.5143e-04 - val_loss: 0.0036\n",
      "Epoch 33/70\n",
      "640/640 [==============================] - 0s 54us/step - loss: 8.4075e-04 - val_loss: 0.0038\n",
      "Epoch 34/70\n",
      "640/640 [==============================] - 0s 59us/step - loss: 7.1013e-04 - val_loss: 0.0037\n",
      "Epoch 35/70\n",
      "640/640 [==============================] - 0s 58us/step - loss: 6.7561e-04 - val_loss: 0.0037\n",
      "Epoch 36/70\n",
      "640/640 [==============================] - 0s 64us/step - loss: 5.9763e-04 - val_loss: 0.0038\n",
      "Epoch 37/70\n",
      "640/640 [==============================] - 0s 60us/step - loss: 6.0208e-04 - val_loss: 0.0041\n",
      "Epoch 38/70\n",
      "640/640 [==============================] - 0s 59us/step - loss: 5.7063e-04 - val_loss: 0.0039\n",
      "Epoch 39/70\n",
      "640/640 [==============================] - 0s 71us/step - loss: 5.6948e-04 - val_loss: 0.0038\n",
      "Epoch 40/70\n",
      "640/640 [==============================] - 0s 61us/step - loss: 4.5899e-04 - val_loss: 0.0039\n",
      "Epoch 41/70\n",
      "640/640 [==============================] - 0s 53us/step - loss: 4.4659e-04 - val_loss: 0.0038\n",
      "Epoch 42/70\n",
      "640/640 [==============================] - 0s 64us/step - loss: 4.4856e-04 - val_loss: 0.0039\n",
      "Epoch 43/70\n",
      "640/640 [==============================] - 0s 65us/step - loss: 3.8785e-04 - val_loss: 0.0040\n",
      "Epoch 44/70\n",
      "640/640 [==============================] - 0s 68us/step - loss: 3.8235e-04 - val_loss: 0.0039\n",
      "Epoch 45/70\n",
      "640/640 [==============================] - 0s 85us/step - loss: 2.7529e-04 - val_loss: 0.0040\n",
      "Epoch 46/70\n",
      "640/640 [==============================] - 0s 69us/step - loss: 2.6240e-04 - val_loss: 0.0040\n",
      "Epoch 47/70\n",
      "640/640 [==============================] - 0s 85us/step - loss: 2.5860e-04 - val_loss: 0.0040\n",
      "Epoch 48/70\n",
      "640/640 [==============================] - 0s 81us/step - loss: 2.3049e-04 - val_loss: 0.0041\n",
      "Epoch 49/70\n",
      "640/640 [==============================] - 0s 69us/step - loss: 1.9634e-04 - val_loss: 0.0041\n",
      "Epoch 50/70\n",
      "640/640 [==============================] - 0s 62us/step - loss: 1.8455e-04 - val_loss: 0.0041\n",
      "Epoch 51/70\n",
      "640/640 [==============================] - 0s 81us/step - loss: 1.5411e-04 - val_loss: 0.0042\n",
      "Epoch 52/70\n",
      "640/640 [==============================] - 0s 71us/step - loss: 1.6075e-04 - val_loss: 0.0042\n",
      "Epoch 53/70\n",
      "640/640 [==============================] - 0s 64us/step - loss: 1.2951e-04 - val_loss: 0.0042\n",
      "Epoch 54/70\n",
      "640/640 [==============================] - 0s 78us/step - loss: 1.2742e-04 - val_loss: 0.0045\n",
      "Epoch 55/70\n",
      "640/640 [==============================] - 0s 72us/step - loss: 1.3494e-04 - val_loss: 0.0042\n",
      "Epoch 56/70\n",
      "640/640 [==============================] - 0s 64us/step - loss: 8.3382e-05 - val_loss: 0.0042\n",
      "Epoch 57/70\n",
      "640/640 [==============================] - 0s 55us/step - loss: 8.4846e-05 - val_loss: 0.0042\n",
      "Epoch 58/70\n",
      "640/640 [==============================] - 0s 65us/step - loss: 8.3958e-05 - val_loss: 0.0043\n",
      "Epoch 59/70\n",
      "640/640 [==============================] - 0s 74us/step - loss: 6.4946e-05 - val_loss: 0.0043\n",
      "Epoch 60/70\n",
      "640/640 [==============================] - 0s 74us/step - loss: 5.9593e-05 - val_loss: 0.0043\n",
      "Epoch 61/70\n",
      "640/640 [==============================] - 0s 62us/step - loss: 5.8576e-05 - val_loss: 0.0043\n",
      "Epoch 62/70\n",
      "640/640 [==============================] - 0s 76us/step - loss: 5.4288e-05 - val_loss: 0.0043\n",
      "Epoch 63/70\n",
      "640/640 [==============================] - 0s 172us/step - loss: 4.1877e-05 - val_loss: 0.0043\n",
      "Epoch 64/70\n",
      "640/640 [==============================] - 0s 51us/step - loss: 3.8424e-05 - val_loss: 0.0043\n",
      "Epoch 65/70\n",
      "640/640 [==============================] - 0s 54us/step - loss: 2.7301e-05 - val_loss: 0.0044\n",
      "Epoch 66/70\n",
      "640/640 [==============================] - 0s 50us/step - loss: 2.8418e-05 - val_loss: 0.0044\n",
      "Epoch 67/70\n",
      "640/640 [==============================] - 0s 50us/step - loss: 3.9682e-05 - val_loss: 0.0044\n",
      "Epoch 68/70\n",
      "640/640 [==============================] - 0s 50us/step - loss: 2.2996e-05 - val_loss: 0.0044\n",
      "Epoch 69/70\n",
      "640/640 [==============================] - 0s 57us/step - loss: 2.2522e-05 - val_loss: 0.0044\n",
      "Epoch 70/70\n",
      "640/640 [==============================] - 0s 58us/step - loss: 3.0230e-05 - val_loss: 0.0044\n"
     ]
    },
    {
     "data": {
      "text/plain": [
       "<keras.callbacks.callbacks.History at 0x7f0598f1c3d0>"
      ]
     },
     "execution_count": 12,
     "metadata": {},
     "output_type": "execute_result"
    }
   ],
   "source": [
    "# call the function to fit to the data to train the network\n",
    "modelann.fit(X_train_ann, y_train_ann, epochs = 70, batch_size=20, validation_data=(X_validation_ann, y_validation_ann))"
   ]
  },
  {
   "cell_type": "code",
   "execution_count": 13,
   "metadata": {},
   "outputs": [],
   "source": [
    "# save the ann model\n",
    "modelann.save('Student-ID-ANN.h5')"
   ]
  },
  {
   "cell_type": "markdown",
   "metadata": {},
   "source": [
    "# CNN Model"
   ]
  },
  {
   "cell_type": "code",
   "execution_count": 14,
   "metadata": {},
   "outputs": [
    {
     "data": {
      "text/plain": [
       "(3, 3)"
      ]
     },
     "execution_count": 14,
     "metadata": {},
     "output_type": "execute_result"
    }
   ],
   "source": [
    "X_trainCNN.ndim, X_testCNN.ndim"
   ]
  },
  {
   "cell_type": "code",
   "execution_count": 15,
   "metadata": {},
   "outputs": [],
   "source": [
    "X_trainCNN = np.expand_dims(X_trainCNN, -1)\n",
    "X_testCNN = np.expand_dims(X_testCNN, -1)"
   ]
  },
  {
   "cell_type": "code",
   "execution_count": 16,
   "metadata": {},
   "outputs": [
    {
     "data": {
      "text/plain": [
       "(4, 4)"
      ]
     },
     "execution_count": 16,
     "metadata": {},
     "output_type": "execute_result"
    }
   ],
   "source": [
    "X_trainCNN.ndim, X_testCNN.ndim"
   ]
  },
  {
   "cell_type": "code",
   "execution_count": 17,
   "metadata": {},
   "outputs": [],
   "source": [
    "X_trainCNN, X_validationCNN, y_trainCNN, y_validationCNN = train_test_split(X_trainCNN, y_train, test_size= 0.2, random_state=2020)"
   ]
  },
  {
   "cell_type": "code",
   "execution_count": 18,
   "metadata": {},
   "outputs": [
    {
     "data": {
      "text/plain": [
       "((640, 50, 50, 1), (160, 50, 50, 1), (640,), (160,))"
      ]
     },
     "execution_count": 18,
     "metadata": {},
     "output_type": "execute_result"
    }
   ],
   "source": [
    "X_trainCNN.shape,  X_validationCNN.shape, y_trainCNN.shape, y_validationCNN.shape"
   ]
  },
  {
   "cell_type": "code",
   "execution_count": 19,
   "metadata": {},
   "outputs": [
    {
     "name": "stdout",
     "output_type": "stream",
     "text": [
      "WARNING:tensorflow:From /home/sahadev/anaconda3/lib/python3.7/site-packages/keras/backend/tensorflow_backend.py:4070: The name tf.nn.max_pool is deprecated. Please use tf.nn.max_pool2d instead.\n",
      "\n"
     ]
    }
   ],
   "source": [
    "# Creatinging CNN model\n",
    "mod_CNN = keras.models.Sequential([\n",
    "                         keras.layers.Conv2D(filters=32, kernel_size=3, strides=(1,1), padding='valid',activation= 'relu', input_shape=[50,50,1]),\n",
    "                         keras.layers.MaxPooling2D(pool_size=(2,2)),\n",
    "                         keras.layers.Flatten(),\n",
    "                         keras.layers.Dense(units=128, activation='relu'),\n",
    "                         keras.layers.Dense(units=1, activation='linear')\n",
    "])"
   ]
  },
  {
   "cell_type": "code",
   "execution_count": 20,
   "metadata": {},
   "outputs": [
    {
     "name": "stdout",
     "output_type": "stream",
     "text": [
      "Model: \"sequential_2\"\n",
      "_________________________________________________________________\n",
      "Layer (type)                 Output Shape              Param #   \n",
      "=================================================================\n",
      "conv2d_1 (Conv2D)            (None, 48, 48, 32)        320       \n",
      "_________________________________________________________________\n",
      "max_pooling2d_1 (MaxPooling2 (None, 24, 24, 32)        0         \n",
      "_________________________________________________________________\n",
      "flatten_1 (Flatten)          (None, 18432)             0         \n",
      "_________________________________________________________________\n",
      "dense_3 (Dense)              (None, 128)               2359424   \n",
      "_________________________________________________________________\n",
      "dense_4 (Dense)              (None, 1)                 129       \n",
      "=================================================================\n",
      "Total params: 2,359,873\n",
      "Trainable params: 2,359,873\n",
      "Non-trainable params: 0\n",
      "_________________________________________________________________\n"
     ]
    }
   ],
   "source": [
    "mod_CNN.summary()"
   ]
  },
  {
   "cell_type": "code",
   "execution_count": 21,
   "metadata": {},
   "outputs": [],
   "source": [
    "# complie the cnn model\n",
    "mod_CNN.compile(loss='mean_squared_error', optimizer='adam')"
   ]
  },
  {
   "cell_type": "code",
   "execution_count": 22,
   "metadata": {},
   "outputs": [
    {
     "name": "stdout",
     "output_type": "stream",
     "text": [
      "Train on 640 samples, validate on 160 samples\n",
      "Epoch 1/70\n",
      "640/640 [==============================] - 1s 849us/step - loss: 24.1821 - val_loss: 7.4547\n",
      "Epoch 2/70\n",
      "640/640 [==============================] - 0s 713us/step - loss: 6.1290 - val_loss: 0.7687\n",
      "Epoch 3/70\n",
      "640/640 [==============================] - 0s 699us/step - loss: 0.7661 - val_loss: 0.7699\n",
      "Epoch 4/70\n",
      "640/640 [==============================] - 0s 700us/step - loss: 0.7195 - val_loss: 0.2919\n",
      "Epoch 5/70\n",
      "640/640 [==============================] - 0s 714us/step - loss: 0.2520 - val_loss: 0.0037\n",
      "Epoch 6/70\n",
      "640/640 [==============================] - 0s 715us/step - loss: 0.0113 - val_loss: 0.1342\n",
      "Epoch 7/70\n",
      "640/640 [==============================] - 0s 706us/step - loss: 0.1462 - val_loss: 0.1882\n",
      "Epoch 8/70\n",
      "640/640 [==============================] - 0s 706us/step - loss: 0.1765 - val_loss: 0.0652\n",
      "Epoch 9/70\n",
      "640/640 [==============================] - 0s 711us/step - loss: 0.0553 - val_loss: 0.0022\n",
      "Epoch 10/70\n",
      "640/640 [==============================] - 0s 704us/step - loss: 0.0050 - val_loss: 0.0486\n",
      "Epoch 11/70\n",
      "640/640 [==============================] - 0s 709us/step - loss: 0.0534 - val_loss: 0.0797\n",
      "Epoch 12/70\n",
      "640/640 [==============================] - 0s 736us/step - loss: 0.0771 - val_loss: 0.0433\n",
      "Epoch 13/70\n",
      "640/640 [==============================] - 1s 840us/step - loss: 0.0384 - val_loss: 0.0046\n",
      "Epoch 14/70\n",
      "640/640 [==============================] - 1s 847us/step - loss: 0.0043 - val_loss: 0.0117\n",
      "Epoch 15/70\n",
      "640/640 [==============================] - 0s 709us/step - loss: 0.0139 - val_loss: 0.0324\n",
      "Epoch 16/70\n",
      "640/640 [==============================] - 0s 706us/step - loss: 0.0323 - val_loss: 0.0262\n",
      "Epoch 17/70\n",
      "640/640 [==============================] - 0s 709us/step - loss: 0.0240 - val_loss: 0.0067\n",
      "Epoch 18/70\n",
      "640/640 [==============================] - 0s 709us/step - loss: 0.0056 - val_loss: 0.0033\n",
      "Epoch 19/70\n",
      "640/640 [==============================] - 0s 704us/step - loss: 0.0042 - val_loss: 0.0128\n",
      "Epoch 20/70\n",
      "640/640 [==============================] - 0s 705us/step - loss: 0.0132 - val_loss: 0.0140\n",
      "Epoch 21/70\n",
      "640/640 [==============================] - 0s 718us/step - loss: 0.0132 - val_loss: 0.0058\n",
      "Epoch 22/70\n",
      "640/640 [==============================] - 0s 714us/step - loss: 0.0051 - val_loss: 0.0022\n",
      "Epoch 23/70\n",
      "640/640 [==============================] - 0s 712us/step - loss: 0.0023 - val_loss: 0.0060\n",
      "Epoch 24/70\n",
      "640/640 [==============================] - 0s 715us/step - loss: 0.0061 - val_loss: 0.0076\n",
      "Epoch 25/70\n",
      "640/640 [==============================] - 1s 853us/step - loss: 0.0072 - val_loss: 0.0041\n",
      "Epoch 26/70\n",
      "640/640 [==============================] - 1s 844us/step - loss: 0.0037 - val_loss: 0.0021\n",
      "Epoch 27/70\n",
      "640/640 [==============================] - 0s 703us/step - loss: 0.0020 - val_loss: 0.0036\n",
      "Epoch 28/70\n",
      "640/640 [==============================] - 0s 709us/step - loss: 0.0036 - val_loss: 0.0045\n",
      "Epoch 29/70\n",
      "640/640 [==============================] - 0s 706us/step - loss: 0.0042 - val_loss: 0.0030\n",
      "Epoch 30/70\n",
      "640/640 [==============================] - 0s 720us/step - loss: 0.0027 - val_loss: 0.0021\n",
      "Epoch 31/70\n",
      "640/640 [==============================] - 0s 700us/step - loss: 0.0020 - val_loss: 0.0029\n",
      "Epoch 32/70\n",
      "640/640 [==============================] - 0s 712us/step - loss: 0.0028 - val_loss: 0.0032\n",
      "Epoch 33/70\n",
      "640/640 [==============================] - 0s 725us/step - loss: 0.0029 - val_loss: 0.0024\n",
      "Epoch 34/70\n",
      "640/640 [==============================] - 0s 710us/step - loss: 0.0021 - val_loss: 0.0021\n",
      "Epoch 35/70\n",
      "640/640 [==============================] - 0s 707us/step - loss: 0.0020 - val_loss: 0.0026\n",
      "Epoch 36/70\n",
      "640/640 [==============================] - 1s 921us/step - loss: 0.0024 - val_loss: 0.0025\n",
      "Epoch 37/70\n",
      "640/640 [==============================] - 0s 722us/step - loss: 0.0023 - val_loss: 0.0021\n",
      "Epoch 38/70\n",
      "640/640 [==============================] - 0s 713us/step - loss: 0.0019 - val_loss: 0.0022\n",
      "Epoch 39/70\n",
      "640/640 [==============================] - 0s 695us/step - loss: 0.0020 - val_loss: 0.0023\n",
      "Epoch 40/70\n",
      "640/640 [==============================] - 0s 715us/step - loss: 0.0021 - val_loss: 0.0022\n",
      "Epoch 41/70\n",
      "640/640 [==============================] - 0s 716us/step - loss: 0.0020 - val_loss: 0.0021\n",
      "Epoch 42/70\n",
      "640/640 [==============================] - 1s 867us/step - loss: 0.0019 - val_loss: 0.0021\n",
      "Epoch 43/70\n",
      "640/640 [==============================] - 0s 736us/step - loss: 0.0020 - val_loss: 0.0022\n",
      "Epoch 44/70\n",
      "640/640 [==============================] - 0s 723us/step - loss: 0.0019 - val_loss: 0.0021\n",
      "Epoch 45/70\n",
      "640/640 [==============================] - 0s 726us/step - loss: 0.0019 - val_loss: 0.0021\n",
      "Epoch 46/70\n",
      "640/640 [==============================] - 0s 716us/step - loss: 0.0019 - val_loss: 0.0021\n",
      "Epoch 47/70\n",
      "640/640 [==============================] - 0s 718us/step - loss: 0.0019 - val_loss: 0.0021\n",
      "Epoch 48/70\n",
      "640/640 [==============================] - 1s 875us/step - loss: 0.0019 - val_loss: 0.0021\n",
      "Epoch 49/70\n",
      "640/640 [==============================] - 0s 733us/step - loss: 0.0018 - val_loss: 0.0021\n",
      "Epoch 50/70\n",
      "640/640 [==============================] - 0s 720us/step - loss: 0.0019 - val_loss: 0.0021\n",
      "Epoch 51/70\n",
      "640/640 [==============================] - 0s 716us/step - loss: 0.0019 - val_loss: 0.0021\n",
      "Epoch 52/70\n",
      "640/640 [==============================] - 0s 774us/step - loss: 0.0018 - val_loss: 0.0021\n",
      "Epoch 53/70\n",
      "640/640 [==============================] - 1s 786us/step - loss: 0.0018 - val_loss: 0.0021\n",
      "Epoch 54/70\n",
      "640/640 [==============================] - 0s 699us/step - loss: 0.0018 - val_loss: 0.0021\n",
      "Epoch 55/70\n",
      "640/640 [==============================] - 1s 953us/step - loss: 0.0018 - val_loss: 0.0021\n",
      "Epoch 56/70\n",
      "640/640 [==============================] - 1s 831us/step - loss: 0.0018 - val_loss: 0.0021\n",
      "Epoch 57/70\n",
      "640/640 [==============================] - 1s 851us/step - loss: 0.0018 - val_loss: 0.0021\n",
      "Epoch 58/70\n",
      "640/640 [==============================] - 0s 714us/step - loss: 0.0018 - val_loss: 0.0021\n",
      "Epoch 59/70\n",
      "640/640 [==============================] - 0s 702us/step - loss: 0.0018 - val_loss: 0.0021\n",
      "Epoch 60/70\n",
      "640/640 [==============================] - 0s 709us/step - loss: 0.0018 - val_loss: 0.0021\n",
      "Epoch 61/70\n",
      "640/640 [==============================] - 0s 750us/step - loss: 0.0018 - val_loss: 0.0021\n",
      "Epoch 62/70\n",
      "640/640 [==============================] - 0s 758us/step - loss: 0.0018 - val_loss: 0.0021\n",
      "Epoch 63/70\n",
      "640/640 [==============================] - 0s 775us/step - loss: 0.0018 - val_loss: 0.0021\n",
      "Epoch 64/70\n",
      "640/640 [==============================] - 0s 764us/step - loss: 0.0018 - val_loss: 0.0021\n",
      "Epoch 65/70\n",
      "640/640 [==============================] - 1s 796us/step - loss: 0.0018 - val_loss: 0.0021\n",
      "Epoch 66/70\n",
      "640/640 [==============================] - 1s 790us/step - loss: 0.0018 - val_loss: 0.0021\n",
      "Epoch 67/70\n",
      "640/640 [==============================] - 0s 771us/step - loss: 0.0018 - val_loss: 0.0021\n",
      "Epoch 68/70\n",
      "640/640 [==============================] - 0s 734us/step - loss: 0.0018 - val_loss: 0.0021\n",
      "Epoch 69/70\n",
      "640/640 [==============================] - 0s 733us/step - loss: 0.0017 - val_loss: 0.0021\n",
      "Epoch 70/70\n",
      "640/640 [==============================] - 0s 718us/step - loss: 0.0017 - val_loss: 0.0021\n"
     ]
    },
    {
     "data": {
      "text/plain": [
       "<keras.callbacks.callbacks.History at 0x7f0590130c10>"
      ]
     },
     "execution_count": 22,
     "metadata": {},
     "output_type": "execute_result"
    }
   ],
   "source": [
    "# train cnn model\n",
    "mod_CNN.fit(X_trainCNN, y_trainCNN, epochs=70, batch_size=512, verbose=1, validation_data=(X_validationCNN, y_validationCNN))"
   ]
  },
  {
   "cell_type": "code",
   "execution_count": 23,
   "metadata": {},
   "outputs": [],
   "source": [
    "# save the cnn model\n",
    "mod_CNN.save('Student-ID-CNN.h5')"
   ]
  },
  {
   "cell_type": "markdown",
   "metadata": {},
   "source": [
    "# Load the models"
   ]
  },
  {
   "cell_type": "code",
   "execution_count": 24,
   "metadata": {},
   "outputs": [
    {
     "data": {
      "image/png": "[encoded data removed]",
      "text/plain": [
       "<Figure size 432x288 with 1 Axes>"
      ]
     },
     "metadata": {
      "needs_background": "light"
     },
     "output_type": "display_data"
    }
   ],
   "source": [
    "from keras.models import load_model\n",
    "import matplotlib.pyplot as plt\n",
    "%matplotlib inline\n",
    "\n",
    "load_annmodel = load_model('Student-ID-ANN.h5')\n",
    "# Predict\n",
    "pred_ann = load_annmodel.predict(X_testANN)\n",
    "fig, ax = plt.subplots()\n",
    "ax.scatter(y_test, pred_ann)\n",
    "ax.plot([y_test.min(), y_test.max()], [pred_ann.min(), pred_ann.max()], 'k--', lw=4)\n",
    "ax.set_xlabel('True')\n",
    "ax.set_ylabel('Predicted')\n",
    "plt.show()"
   ]
  },
  {
   "cell_type": "code",
   "execution_count": 25,
   "metadata": {},
   "outputs": [
    {
     "data": {
      "image/png": "[encoded data removed]",
      "text/plain": [
       "<Figure size 432x288 with 1 Axes>"
      ]
     },
     "metadata": {
      "needs_background": "light"
     },
     "output_type": "display_data"
    }
   ],
   "source": [
    "load_cnnmodel = load_model('Student-ID-CNN.h5')\n",
    "\n",
    "# Predict\n",
    "pred_cnn = load_cnnmodel.predict(X_testCNN)\n",
    "fig, ax = plt.subplots()\n",
    "ax.scatter(y_test, pred_cnn)\n",
    "ax.plot([y_test.min(), y_test.max()], [pred_cnn.min(), pred_cnn.max()], 'k--', lw=4)\n",
    "ax.set_xlabel('True')\n",
    "ax.set_ylabel('Predicted')\n",
    "plt.show()"
   ]
  },
  {
   "cell_type": "code",
   "execution_count": 26,
   "metadata": {},
   "outputs": [
    {
     "name": "stdout",
     "output_type": "stream",
     "text": [
      "Mean Square Error :  0.002802118\n",
      "Root Mean Square Error :  0.052935034\n"
     ]
    }
   ],
   "source": [
    "from sklearn import metrics\n",
    "\n",
    "# Measure Mean Square Error error.  \n",
    "score = metrics.mean_squared_error(pred_ann, pred_cnn)\n",
    "print(\"Mean Square Error : \",score)\n",
    "\n",
    "# Measure Root Mean Square Error error\n",
    "score = np.sqrt(metrics.mean_squared_error(pred_ann, pred_cnn))\n",
    "print(\"Root Mean Square Error : \",score)"
   ]
  },
  {
   "cell_type": "code",
   "execution_count": null,
   "metadata": {},
   "outputs": [],
   "source": []
  },
  {
   "cell_type": "code",
   "execution_count": null,
   "metadata": {},
   "outputs": [],
   "source": []
  }
 ],
 "metadata": {
  "kernelspec": {
   "display_name": "Python 3",
   "language": "python",
   "name": "python3"
  },
  "language_info": {
   "codemirror_mode": {
    "name": "ipython",
    "version": 3
   },
   "file_extension": ".py",
   "mimetype": "text/x-python",
   "name": "python",
   "nbconvert_exporter": "python",
   "pygments_lexer": "ipython3",
   "version": "3.7.4"
  }
 },
 "nbformat": 4,
 "nbformat_minor": 2
}
